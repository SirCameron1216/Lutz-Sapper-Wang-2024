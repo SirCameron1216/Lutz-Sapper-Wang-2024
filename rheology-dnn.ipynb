{
 "cells": [
  {
   "cell_type": "code",
   "execution_count": null,
   "metadata": {},
   "outputs": [],
   "source": [
    "import sklearn\n",
    "import sklearn.linear_model\n",
    "import time\n",
    "import seaborn as sb\n",
    "import matplotlib.pyplot as plt \n",
    "%matplotlib inline\n",
    "import numpy as np\n",
    "import pandas as pd\n",
    "import shap\n",
    "import xgboost\n",
    "\n",
    "from numpy import arange\n",
    "from pandas import read_csv\n",
    "from sklearn.linear_model import ElasticNet\n",
    "from sklearn.linear_model import ElasticNetCV\n",
    "from sklearn.linear_model import LinearRegression\n",
    "from sklearn.model_selection import KFold\n",
    "from sklearn.model_selection import GridSearchCV\n",
    "from sklearn.model_selection import RandomizedSearchCV\n",
    "from sklearn.model_selection import RepeatedKFold\n",
    "from sklearn.model_selection import train_test_split\n",
    "from sklearn.preprocessing import StandardScaler\n",
    "from sklearn.preprocessing import MinMaxScaler\n",
    "from sklearn.preprocessing import RobustScaler\n",
    "from xgboost import XGBRegressor\n",
    "from sklearn.ensemble import RandomForestRegressor\n",
    "from sklearn.svm import SVR\n",
    "from sklearn.metrics import mean_squared_error\n",
    "from sklearn.metrics import r2_score\n",
    "from sklearn.cross_decomposition import PLSRegression\n",
    "from sklearn.decomposition import PCA\n",
    "from sklearn_genetic import GASearchCV\n",
    "\n",
    "import tensorflow as tf\n",
    "from tensorflow import keras\n",
    "from tensorflow.keras import layers\n",
    "#from scikeras.wrappers import KerasRegressor\n",
    "from tensorflow.keras.models import Sequential\n",
    "from tensorflow.keras.models import load_model\n",
    "from tensorflow.keras.layers import Dense, Dropout\n",
    "from keras.regularizers import l2\n",
    "from mapie.regression import MapieRegressor\n",
    "\n",
    "import pickle\n"
   ]
  },
  {
   "cell_type": "markdown",
   "metadata": {},
   "source": [
    "## Deep Neural Network "
   ]
  },
  {
   "cell_type": "code",
   "execution_count": null,
   "metadata": {},
   "outputs": [],
   "source": [
    "rocky = pd.read_excel('FINAL-trainingset.xlsx')"
   ]
  },
  {
   "cell_type": "code",
   "execution_count": null,
   "metadata": {},
   "outputs": [],
   "source": [
    "rocky.columns[0:3]"
   ]
  },
  {
   "cell_type": "code",
   "execution_count": null,
   "metadata": {},
   "outputs": [],
   "source": [
    "rocky = rocky.drop(columns=['ID','Molecule_Name','SMILES'])\n",
    "rocky = rocky.drop(columns=['Surface Tension'])\n",
    "rocky = rocky.drop(columns=['Viscosity'])\n",
    "#rocky = rocky.drop(columns=['Density'])\n",
    "print(rocky)"
   ]
  },
  {
   "cell_type": "code",
   "execution_count": null,
   "metadata": {},
   "outputs": [],
   "source": [
    "rocky.shape"
   ]
  },
  {
   "cell_type": "code",
   "execution_count": null,
   "metadata": {},
   "outputs": [],
   "source": [
    "rocky1 = rocky.dropna(axis=0, subset=['Density'])\n",
    "#rocky1 = rocky.dropna(axis=0, subset=['Viscosity'])\n",
    "#rocky1 = rocky.dropna(axis=0, subset=['Surface Tension'])"
   ]
  },
  {
   "cell_type": "code",
   "execution_count": null,
   "metadata": {},
   "outputs": [],
   "source": [
    "rocky1.head()"
   ]
  },
  {
   "cell_type": "code",
   "execution_count": null,
   "metadata": {},
   "outputs": [],
   "source": [
    "# Import and Wrangle Data\n",
    "d_X = rocky1.drop(columns=['Density'])\n",
    "#d_X = rocky1.drop(columns=['Viscosity'])\n",
    "#d_X = rocky1.drop(columns=['Surface Tension'])\n",
    "d_y = rocky1['Density']\n",
    "#d_y = rocky1['Viscosity']\n",
    "#d_y = rocky1['Surface Tension']\n"
   ]
  },
  {
   "cell_type": "code",
   "execution_count": null,
   "metadata": {},
   "outputs": [],
   "source": [
    "X_train_full, X_test, y_train_full, y_test = train_test_split(d_X, d_y)\n",
    "\n",
    "X_train, X_valid, y_train, y_valid = train_test_split(X_train_full,y_train_full)"
   ]
  },
  {
   "cell_type": "code",
   "execution_count": null,
   "metadata": {},
   "outputs": [],
   "source": [
    "scaler = StandardScaler()\n",
    "X_train = scaler.fit_transform(X_train)\n",
    "X_valid = scaler.transform(X_valid)\n",
    "X_test = scaler.transform(X_test)"
   ]
  },
  {
   "cell_type": "markdown",
   "metadata": {},
   "source": [
    "## Keras-Tuner"
   ]
  },
  {
   "cell_type": "code",
   "execution_count": null,
   "metadata": {},
   "outputs": [],
   "source": [
    "import tensorflow as tf\n",
    "from tensorflow import keras\n",
    "from kerastuner.tuners import RandomSearch"
   ]
  },
  {
   "cell_type": "code",
   "execution_count": null,
   "metadata": {},
   "outputs": [],
   "source": [
    "import numpy as np\n",
    "import keras_tuner as kt\n",
    "from tensorflow import keras\n",
    "from tensorflow.keras import layers\n",
    "from tensorflow.keras.models import Sequential\n",
    "from tensorflow.keras.layers import Dense\n",
    "\n",
    "\n",
    "# Sample data dimensions\n",
    "input_dim = 1058  # This should be set to the number of features in your dataset\n",
    "\n",
    "# Define the model architecture using a function\n",
    "def build_model(hp):\n",
    "    model = Sequential()\n",
    "    model.add(Dense(units=hp.Int('units1', min_value=8, max_value=256, step=8),\n",
    "                    activation=hp.Choice('activation1', values=['relu', 'tanh']),\n",
    "                    input_dim=input_dim))\n",
    "    model.add(Dense(units=hp.Int('units2', min_value=8, max_value=256, step=8),\n",
    "                    activation=hp.Choice('activation2', values=['relu', 'tanh'])))\n",
    "    if hp.Boolean('add_layer3'):\n",
    "            model.add(Dense(units=hp.Int('units3', min_value=8, max_value=256, step=8),\n",
    "                            activation=hp.Choice('activation3', values=['relu', 'tanh'])))\n",
    "    model.add(Dropout(rate=hp.Float('dropout', 0.0, 0.5, step=0.1)))\n",
    "    model.add(Dense(1, activation='linear'))  # Output layer for regression\n",
    "\n",
    "    # Compile model\n",
    "    model.compile(\n",
    "        optimizer=keras.optimizers.get({\n",
    "            \"class_name\": hp.Choice('optimizer', ['adam', 'rmsprop', 'sgd', 'adagrad', 'adamax', 'Nadam']),\n",
    "            \"config\": {\"learning_rate\": hp.Choice('learning_rate', [1e-1, 1e-2, 1e-3, 1e-4, 1e-5])}\n",
    "        }),\n",
    "        loss='mean_squared_error',\n",
    "        metrics=[keras.metrics.MeanSquaredError()]\n",
    "    )\n",
    "\n",
    "    return model\n",
    "\n",
    "# Custom callback to calculate R-squared\n",
    "class R2Callback(keras.callbacks.Callback):\n",
    "    def __init__(self, train_data, val_data, **kwargs):\n",
    "        super().__init__(**kwargs)\n",
    "        self.train_data = train_data\n",
    "        self.val_data = val_data\n",
    "\n",
    "    def on_epoch_end(self, epoch, logs=None):\n",
    "        X_train, y_train = self.train_data\n",
    "        X_val, y_val = self.val_data\n",
    "        \n",
    "        y_pred_train = self.model.predict(X_train)\n",
    "        r2_train = r2_score(y_train, y_pred_train)\n",
    "        logs['r2_train'] = r2_train\n",
    "        \n",
    "        y_pred_val = self.model.predict(X_val)\n",
    "        r2_val = r2_score(y_val, y_pred_val)\n",
    "        logs['r2_val'] = r2_val\n",
    "        \n",
    "        print(f\" - r2_train: {r2_train:.4f} - r2_val: {r2_val:.4f}\")\n",
    "\n",
    "# Instantiate the tuner\n",
    "tuner = kt.Hyperband(\n",
    "    build_model,\n",
    "    objective='val_loss',\n",
    "    max_epochs=100,\n",
    "    factor=3,\n",
    "    hyperband_iterations=10,\n",
    ")\n",
    "\n",
    "# Early stopping callback to avoid overfitting\n",
    "stop_early = keras.callbacks.EarlyStopping(monitor='val_loss', patience=10)\n",
    "\n",
    "# Start the tuner\n",
    "tuner.search(X_train, y_train, epochs=150, validation_data=(X_valid, y_valid), callbacks=[stop_early])\n",
    "\n",
    "# Get the optimal hyperparameters\n",
    "best_hps = tuner.get_best_hyperparameters(num_trials=1)[0]\n",
    "\n",
    "summary = f\"\"\"\n",
    "The hyperparameter search is complete. The optimal number of units in the first densely-connected\n",
    "layer is {best_hps.get('units1')}, the optimal activation is {best_hps.get('activation1')},\n",
    "the optimal number of units in the second densely-connected layer is {best_hps.get('units2')},\n",
    "the optimal activation for the second layer is {best_hps.get('activation2')},\n",
    "\"\"\"\n",
    "\n",
    "if 'units3' in best_hps.values:\n",
    "    summary += f\"the optimal number of units in the third densely-connected layer is {best_hps.get('units3')}, the optimal activation for the third layer is {best_hps.get('activation3')},\\n\"\n",
    "\n",
    "if 'dropout' in best_hps.values:\n",
    "    summary += f\"the optimal dropout rate is {best_hps.get('dropout')},\\n\"\n",
    "\n",
    "summary += f\"the optimal optimizer is {best_hps.get('optimizer')}, and the optimal learning rate for the optimizer is {best_hps.get('learning_rate')}.\\n\"\n",
    "\n",
    "print(summary)\n",
    "\n",
    "# Build the model with the optimal hyperparameters and train it on the data\n",
    "model = tuner.hypermodel.build(best_hps)\n",
    "\n",
    "# Train the model\n",
    "history = model.fit(X_train, y_train, epochs=50, validation_data=(X_valid, y_valid), callbacks=[stop_early, R2Callback(train_data=(X_train, y_train), val_data=(X_valid, y_valid))])"
   ]
  },
  {
   "cell_type": "code",
   "execution_count": null,
   "metadata": {},
   "outputs": [],
   "source": [
    "dy_pred_dnn = model.predict(X_test)\n",
    "\n",
    "# evaluate the model on test set\n",
    "r2_density_dnn = sklearn.metrics.r2_score(y_test, dy_pred_dnn)\n",
    "print('R-squared on Test Set: %0.2f' %r2_density_dnn)\n",
    "\n",
    "RMSE_test_density_dnn = sklearn.metrics.mean_squared_error(y_test, dy_pred_dnn, squared=False)\n",
    "print('RMSE on Test Set: %0.2f' %RMSE_test_density_dnn)"
   ]
  },
  {
   "cell_type": "markdown",
   "metadata": {},
   "source": [
    "## Save Models"
   ]
  },
  {
   "cell_type": "code",
   "execution_count": null,
   "metadata": {},
   "outputs": [],
   "source": [
    "# Assume `model` is your trained Keras model\n",
    "model_path = 'density_best_model.h5'\n",
    "\n",
    "# Save the Keras model\n",
    "model.save(model_path)\n",
    "\n",
    "# Save the model path using pickle\n",
    "with open('density_model_path.pkl', 'wb') as f:\n",
    "    pickle.dump(model_path, f)"
   ]
  },
  {
   "cell_type": "code",
   "execution_count": null,
   "metadata": {},
   "outputs": [],
   "source": [
    "# # Assume `model` is your trained Keras model\n",
    "# model_path = 'viscosity_best_model.h5'\n",
    "\n",
    "# # Save the Keras model\n",
    "# model.save(model_path)\n",
    "\n",
    "# # Save the model path using pickle\n",
    "# with open('viscosity_model_path.pkl', 'wb') as f:\n",
    "#     pickle.dump(model_path, f)"
   ]
  },
  {
   "cell_type": "code",
   "execution_count": null,
   "metadata": {},
   "outputs": [],
   "source": [
    "# # Assume `model` is your trained Keras model\n",
    "# model_path = 'surface_best_model.h5'\n",
    "\n",
    "# # Save the Keras model\n",
    "# model.save(model_path)\n",
    "\n",
    "# # Save the model path using pickle\n",
    "# with open('surface_model_path.pkl', 'wb') as f:\n",
    "#     pickle.dump(model_path, f)"
   ]
  },
  {
   "cell_type": "markdown",
   "metadata": {},
   "source": [
    "## Basic"
   ]
  },
  {
   "cell_type": "code",
   "execution_count": null,
   "metadata": {},
   "outputs": [],
   "source": [
    "model = keras.models.Sequential([\n",
    "    keras.layers.Dense(64, activation='relu', input_shape=X_train.shape[1:]),\n",
    "    keras.layers.Dense(64, activation='relu'),\n",
    "    keras.layers.Dense(1)\n",
    "    ])\n"
   ]
  },
  {
   "cell_type": "code",
   "execution_count": null,
   "metadata": {},
   "outputs": [],
   "source": [
    "#opt = keras.optimizers.adam(learning_rate=0.001)\n",
    "model.compile(loss='mean_squared_error', optimizer='adam')\n",
    "history = model.fit(X_train, y_train, epochs=100, validation_data=(X_valid,y_valid))\n"
   ]
  },
  {
   "cell_type": "code",
   "execution_count": null,
   "metadata": {},
   "outputs": [],
   "source": [
    "mse_test = model.evaluate(X_test, y_test)\n",
    "print(f\"Test MSE: {mse_test}\")\n",
    "\n"
   ]
  },
  {
   "cell_type": "code",
   "execution_count": null,
   "metadata": {},
   "outputs": [],
   "source": [
    "dropout_rate = 0.5\n",
    "def build_model():\n",
    "    model = keras.models.Sequential([\n",
    "        keras.layers.Dense(512, activation='relu', input_shape=(1135,)),\n",
    "        keras.layers.Dense(256, activation='relu'),\n",
    "        keras.layers.Dropout(dropout_rate),  \n",
    "        keras.layers.Dense(256, activation='relu'),\n",
    "        keras.layers.Dropout(dropout_rate),  \n",
    "        keras.layers.Dense(64, activation='relu'),\n",
    "        keras.layers.Dropout(dropout_rate),\n",
    "        keras.layers.Dense(64, activation='relu'),\n",
    "        keras.layers.Dense(1)\n",
    "        ])\n",
    "    model.compile(optimizer=\"adam\", loss='mse', metrics=['mae'])\n",
    "    return model"
   ]
  },
  {
   "cell_type": "code",
   "execution_count": null,
   "metadata": {},
   "outputs": [],
   "source": [
    "k = 4\n",
    "num_val_samples = len(X_train) // k\n",
    "num_epochs = 100\n",
    "all_scores = []\n",
    "all_r2_scores = []\n",
    "\n",
    "for i in range(k):\n",
    "    print(f\"Processing Fold #{i}\")\n",
    "    val_data = X_train[i * num_val_samples: (i+1) * num_val_samples]\n",
    "    val_targets = y_train[i * num_val_samples: (i+1) * num_val_samples]\n",
    "    partial_train_data = np.concatenate([X_train[:i*num_val_samples], X_train[(i+1)*num_val_samples:]],\n",
    "                                        axis=0)\n",
    "    partial_test_data = np.concatenate([y_train[:i*num_val_samples], y_train[(i+1)*num_val_samples:]],\n",
    "                                        axis=0)\n",
    "    model = build_model()\n",
    "    model.fit(partial_train_data, partial_test_data, epochs=num_epochs, batch_size=16, verbose=0)\n",
    "    val_mse, val_mae = model.evaluate(val_data,val_targets, verbose=0)\n",
    "    all_scores.append(val_mae)\n",
    "\n",
    "    predictions = model.predict(val_data)\n",
    "    r2 = r2_score(val_targets, predictions)\n",
    "    all_r2_scores.append(r2)\n",
    "\n"
   ]
  },
  {
   "cell_type": "code",
   "execution_count": null,
   "metadata": {},
   "outputs": [],
   "source": [
    "print(\"All MAE scores:\", all_scores)\n",
    "print(np.mean(all_scores))\n",
    "print(\"All R^2 scores:\", all_r2_scores)\n",
    "print(np.mean(all_r2_scores))"
   ]
  },
  {
   "cell_type": "code",
   "execution_count": null,
   "metadata": {},
   "outputs": [],
   "source": [
    "def build_model(n_hidden=1, n_neurons=30, learning_rate=3e-3, input_shape=X_train.shape[1:]):\n",
    "    model = keras.models.Sequential()\n",
    "    model.add(keras.layers.InputLayer(input_shape=input_shape))\n",
    "    for layer in range(n_hidden):\n",
    "        model.add(keras.layers.Dense(n_neurons, activation=\"relu\"))\n",
    "    model.add(keras.layers.Dense(1))\n",
    "    optimizer = keras.optimizers.SGD(learning_rate=learning_rate)\n",
    "    model.compile(loss=\"mse\", optimizer=optimizer)\n",
    "    return model\n"
   ]
  },
  {
   "cell_type": "code",
   "execution_count": null,
   "metadata": {},
   "outputs": [],
   "source": [
    "keras_reg = tf.keras.wrappers.scikit.KerasRegressor(build_model)"
   ]
  },
  {
   "cell_type": "code",
   "execution_count": null,
   "metadata": {},
   "outputs": [],
   "source": [
    "keras_reg.fit(X_train, y_train, epochs=100, validation_data = (X_valid,y_valid), \n",
    "              callbacks = [keras.callbacks.EarlyStopping(patience=10)])\n",
    "mse_test_reg = keras_reg.score(X_test,y_test)\n",
    "y_pred_reg = keras_reg.predict(X_new)"
   ]
  },
  {
   "cell_type": "markdown",
   "metadata": {},
   "source": [
    "# MAPIE Module"
   ]
  },
  {
   "cell_type": "code",
   "execution_count": null,
   "metadata": {},
   "outputs": [],
   "source": [
    "# Define mapie regressor\n",
    "mapie = MapieRegressor(estimator = model, # Prediction Model to use\n",
    "                       n_jobs = -1,\n",
    "                       agg_function = \"median\",\n",
    "                       random_state = 42)\n",
    "\n",
    "# Fit mapie regressor on training data\n",
    "mapie.fit(train_X, train_y)\n",
    "\n",
    "alpha = 0.1 # for 90% target coverage\n",
    "\n",
    "# Use mapie.predict() to get predicted values and intervals\n",
    "y_test_pred, y_test_pi = mapie.predict(test_X, alpha = alpha)"
   ]
  },
  {
   "cell_type": "code",
   "execution_count": null,
   "metadata": {},
   "outputs": [],
   "source": [
    "# Predicted values\n",
    "y_test_pred"
   ]
  },
  {
   "cell_type": "code",
   "execution_count": null,
   "metadata": {},
   "outputs": [],
   "source": [
    "# Prediction Intervals\n",
    "y_test_pis"
   ]
  },
  {
   "cell_type": "code",
   "execution_count": null,
   "metadata": {},
   "outputs": [],
   "source": [
    "# Storing results in a dataframe\n",
    "predictions = test_y.to_frame()\n",
    "predictions.columns = ['Actual Value']\n",
    "predictions[\"Predicted Value\"] = y_test_pred.round()\n",
    "predictions[\"Lower Value\"] = y_test_pis.reshape(-1,2)[:,0].round()\n",
    "predictions[\"Upper Value\"] = y_test_pis.reshape(-1,2)[:,1].round()\n",
    "\n",
    "# Take a quick look\n",
    "predictions"
   ]
  },
  {
   "cell_type": "code",
   "execution_count": null,
   "metadata": {},
   "outputs": [],
   "source": [
    "predictions[\"Error\"] = predictions[\"Predicted Value\"] - predictions[\"Actual Value\"]\n",
    "\n",
    "predictions[\"Error_upper\"] =   (predictions[\"Upper Value\"] - predictions[\"Predicted Value\"])\n",
    "predictions[\"Error_lower\"] =  -(predictions[\"Predicted Value\"] - predictions[\"Lower Value\"])\n",
    "\n",
    "# Sort by total interval width\n",
    "predictions[\"Interval_width\"] = predictions[\"Upper Value\"] - predictions[\"Lower Value\"]\n",
    "sorted_predictions = predictions.sort_values(by=['Interval_width']).reset_index(drop=True)\n",
    "\n",
    "sorted_predictions"
   ]
  },
  {
   "cell_type": "code",
   "execution_count": null,
   "metadata": {},
   "outputs": [],
   "source": [
    "fig, ax = plt.subplots(figsize=(18, 8))\n",
    "\n",
    "plt.plot(sorted_predictions[\"Error\"], 'o', markersize = 3, label = \"Error (y_pred - y_true)\")\n",
    "\n",
    "plt.fill_between(np.arange(len(sorted_predictions)),\n",
    "                 sorted_predictions[\"Error_lower\"],\n",
    "                 sorted_predictions[\"Error_upper\"],\n",
    "                 alpha=0.5, color=\"grey\", label = \"Prediction Interval\")\n",
    "\n",
    "ax.axline([0, 0], [1, 0], color = \"red\", linestyle='--', lw=2, zorder=3, label=\"y_true\")\n",
    "plt.xticks([])\n",
    "plt.xlim([0, len(sorted_predictions)])\n",
    "plt.ylabel(\"Errors\")\n",
    "plt.legend(loc=\"upper left\", fontsize=14)\n",
    "plt.show()"
   ]
  },
  {
   "cell_type": "code",
   "execution_count": null,
   "metadata": {},
   "outputs": [],
   "source": [
    "# count number of points outside of predicted interval\n",
    "sorted_predictions[\"is_outside_range\"] = 0\n",
    "sorted_predictions[\"is_outside_range\"] = sorted_predictions[\"is_outside_range\"].where((\n",
    "    (sorted_predictions[\"Error\"] < sorted_predictions[\"Error_upper\"]) & (sorted_predictions[\"Error\"] > sorted_predictions[\"Error_lower\"]) ),\n",
    "    other=1)\n",
    "\n",
    "print(round(100-(100/len(sorted_predictions))*sorted_predictions[\"is_outside_range\"].sum(),1))"
   ]
  },
  {
   "cell_type": "code",
   "execution_count": null,
   "metadata": {},
   "outputs": [],
   "source": [
    "# count number of prediction intervals that actually contain the ground truth value\n",
    "sorted_predictions[\"gt_within_PI\"] = 0\n",
    "sorted_predictions[\"gt_within_PI\"] = sorted_predictions[\"gt_within_PI\"].where((\n",
    "    (sorted_predictions[\"Actual Value\"] < sorted_predictions[\"Upper Value\"]) & (sorted_predictions[\"Actual Value\"] > sorted_predictions[\"Lower Value\"]) ),\n",
    "    other=1)\n",
    "\n",
    "print(round(100-(100/len(sorted_predictions))*sorted_predictions[\"gt_within_PI\"].sum(),1))"
   ]
  },
  {
   "cell_type": "code",
   "execution_count": null,
   "metadata": {},
   "outputs": [],
   "source": [
    "# re-sort for plot\n",
    "sorted_predictions = predictions.sort_values(by=['Actual Value']).reset_index(drop=True)\n",
    "\n",
    "fig, ax = plt.subplots(figsize=(30, 9))\n",
    "\n",
    "plt.plot(sorted_predictions[\"Actual Value\"], 'o', markersize=3, label=\"Actual Value\")\n",
    "\n",
    "plt.fill_between(np.arange(len(sorted_predictions)),\n",
    "                 sorted_predictions[\"Lower Value\"],\n",
    "                 sorted_predictions[\"Upper Value\"],\n",
    "                 alpha=0.5, color=\"grey\", label=\"prediction interval\")\n",
    "\n",
    "plt.xticks([])\n",
    "plt.xlim([0, len(sorted_predictions)])\n",
    "plt.ylabel(\"True value\")\n",
    "plt.legend(loc=\"upper left\", fontsize=14)\n",
    "plt.show()"
   ]
  },
  {
   "cell_type": "code",
   "execution_count": null,
   "metadata": {},
   "outputs": [],
   "source": []
  },
  {
   "cell_type": "markdown",
   "metadata": {},
   "source": [
    "# PREDICTION"
   ]
  },
  {
   "cell_type": "code",
   "execution_count": null,
   "metadata": {},
   "outputs": [],
   "source": [
    "# Later, to load the model\n",
    "with open('density_model_path.pkl', 'rb') as f:\n",
    "    loaded_model_path = pickle.load(f)\n",
    "\n",
    "# Load the Keras model\n",
    "loaded_model = load_model(loaded_model_path)"
   ]
  },
  {
   "cell_type": "code",
   "execution_count": null,
   "metadata": {},
   "outputs": [],
   "source": [
    "# # Later, to load the model\n",
    "# with open('viscosity_model_path.pkl', 'rb') as f:\n",
    "#     loaded_model_path = pickle.load(f)\n",
    "\n",
    "# # Load the Keras model\n",
    "# loaded_model = load_model(loaded_model_path)"
   ]
  },
  {
   "cell_type": "code",
   "execution_count": null,
   "metadata": {},
   "outputs": [],
   "source": [
    "# # Later, to load the model\n",
    "# with open('surface_model_path.pkl', 'rb') as f:\n",
    "#     loaded_model_path = pickle.load(f)\n",
    "\n",
    "# # Load the Keras model\n",
    "# loaded_model = load_model(loaded_model_path)"
   ]
  }
 ],
 "metadata": {
  "kernelspec": {
   "display_name": "base",
   "language": "python",
   "name": "python3"
  },
  "language_info": {
   "codemirror_mode": {
    "name": "ipython",
    "version": 3
   },
   "file_extension": ".py",
   "mimetype": "text/x-python",
   "name": "python",
   "nbconvert_exporter": "python",
   "pygments_lexer": "ipython3",
   "version": "3.11.5"
  }
 },
 "nbformat": 4,
 "nbformat_minor": 2
}
